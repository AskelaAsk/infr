{
  "nbformat": 4,
  "nbformat_minor": 0,
  "metadata": {
    "colab": {
      "provenance": [],
      "authorship_tag": "ABX9TyMCy9gr3ZkSMR/a3sC9keco",
      "include_colab_link": true
    },
    "kernelspec": {
      "name": "python3",
      "display_name": "Python 3"
    },
    "language_info": {
      "name": "python"
    }
  },
  "cells": [
    {
      "cell_type": "markdown",
      "metadata": {
        "id": "view-in-github",
        "colab_type": "text"
      },
      "source": [
        "<a href=\"https://colab.research.google.com/github/AskelaAsk/infr/blob/jbrowser/Jbrowse.ipynb\" target=\"_parent\"><img src=\"https://colab.research.google.com/assets/colab-badge.svg\" alt=\"Open In Colab\"/></a>"
      ]
    },
    {
      "cell_type": "code",
      "execution_count": null,
      "metadata": {
        "id": "d4V9YlAOT9iM"
      },
      "outputs": [],
      "source": []
    },
    {
      "cell_type": "markdown",
      "source": [
        "# 2 - Working with remote servers\n",
        "\n",
        "**git branch name:** jbrowser"
      ],
      "metadata": {
        "id": "N44WLnNn1gjd"
      }
    },
    {
      "cell_type": "markdown",
      "source": [
        "## Theory [2]\n",
        "\n",
        "* [0.4] What are [computer ports](https://www.cloudflare.com/learning/network-layer/what-is-a-computer-port/) on a high level? How many ports are there on a typical computer?\n",
        "* [0.4] What is the difference between http, https, ssh, and other protocols? In what sense are they similar? Name default ports for several data transfer protocols.\n",
        "* [0.4] Explain briefly: (1) what is IP, (2) what IPs are called 'white'/public, (3) and what happens when you enter 'google.com' into the web browser. \n",
        "* [0.4] What is Nginx? How does it work on the high level? List several alternative web servers.\n",
        "* [0.4] What is SSH, and for what is it typically used? Explain two ways to authenticate in an SSH server in detail."
      ],
      "metadata": {
        "id": "8t5OxUXc5VTc"
      }
    },
    {
      "cell_type": "markdown",
      "source": [
        "## Problem [6.5]\n",
        "\n",
        "A real-life situation that occurred to me several times over the years.\n",
        "\n",
        "Imagine wrapping up a large bioinformatics project and wanting to share raw data with your colleagues in a friendly and straightforward format. The best option would be to use an online genome browser and host your data remotely, so it is easily accessible by anyone with a valid link. This is exactly what we will be doing here.\n",
        "\n",
        "*Please consider doing this HW using Linux since setting up the SSH client on Windows is painful, and I won't be able to help you.*"
      ],
      "metadata": {
        "id": "Kh5oUQSA5WxI"
      }
    },
    {
      "cell_type": "markdown",
      "source": [
        "**Remote Server**:\n",
        "* [2] Create a new virtual machine in the Yandex/Mail/etc cloud (order at least 10GB of free disk space). Generate SSH key pair and use it to connect to your server.\n",
        "* [1] Download the latest human genome assembly (GRCh38) from the Ensemble FTP server ([fasta](https://ftp.ensembl.org/pub/release-108/fasta/homo_sapiens/dna/Homo_sapiens.GRCh38.dna.primary_assembly.fa.gz), [GFF3](https://ftp.ensembl.org/pub/release-108/gff3/homo_sapiens/Homo_sapiens.GRCh38.108.gff3.gz)). Index the fasta using samtools (`samtools faidx`) and GFF3 using tabix. \n",
        "* [1] Select and download BED files for three ChIP-seq and one ATAC-seq experiment from the ENCODE (use one tissue/cell line). Sort, bgzip, and index them using tabix.\n",
        "\n",
        "**JBrowse 2**\n",
        "* [1] Download and install [JBrowse 2](https://jbrowse.org/jb2/). Create a new jbrowse [repository](https://jbrowse.org/jb2/docs/cli/#jbrowse-create-localpath) in `/mnt/JBrowse/` (or some other folder).\n",
        "* [0.25] Install nginx and amend its config(/etc/nginx/nginx.conf) to contain the following section:\n",
        "```conf\n",
        "http {\n",
        "  # Don't touch other options!\n",
        "  # ........\n",
        "  # ........\n",
        "\n",
        "  # Comment this line(!):\n",
        "  # include /etc/nginx/sites-enabled/*;\n",
        "\n",
        "  # Add this:\n",
        "  server {\n",
        "    listen 80 default_server;\n",
        "    index index.html;\n",
        "    server_name _;\n",
        "\n",
        "    location /jbrowse/ {\n",
        "      alias /mnt/JBrowse/;\t\n",
        "    }\n",
        "  }\n",
        "}\n",
        "```\n",
        "\n",
        "* [0.25] Restart the nginx (reload its config) and make sure that you can access the browser using a link like this: `http://64.129.58.13/jbrowse/`. Here `64.129.58.13` is your public IP address.\n",
        "* [1] Add your files (BED & FASTA & GFF3) to the genome browser and verify that everything works as intended. Don't forget to [index](https://jbrowse.org/jb2/docs/cli/#jbrowse-text-index) the genome annotation, so you could later search by gene names. Provide a [persistent link](https://jbrowse.org/jb2/docs/user_guides/basic_usage/#sharing-sessions) to a JBrowse 2 session with all your BED files and the genome annotation in the report (like [this](https://jbrowse.org/code/jb2/v2.3.1/?session=share-HShsEcnq3i&password=nYzTU)). *I must be able to access it without problems later.*\n",
        "\n",
        "\n",
        "**Common mistakes**:\n",
        "* Using `/home/username` folder for JBrowse. Don't do this - you will have permission issues (403 forbidden) because by default home is only available to your user, not to the nginx user(group).\n",
        "* No trailing `/` in the config (`/jbrowse/`, `/mnt/JBrowse/`), or in the URL (`http://64.129.58.13/jbrowse/`).\n",
        "* If you have added tracks but they are not showing up in JBrowse - try reloading the page or use a private/incognito window.\n",
        "* Don't use `sudo` when using JBrowse CLI: (1) you risk messing up with permissions, (2) you don't really need it.\n",
        "\n"
      ],
      "metadata": {
        "id": "6phPxd80OiLP"
      }
    },
    {
      "cell_type": "code",
      "source": [
        "sudo apt-get install wget \n",
        "sudo apt install gunzip samtools tabix\n",
        "\n",
        "mkdir files\n",
        "cd files\n",
        "\n",
        "wget ftp://ftp.ensembl.org/pub/release-99/fasta/homo_sapiens/dna/Homo_sapiens.GRCh38.dna.primary_assembly.fa.gz\n",
        "\n",
        "gunzip Homo_sapiens.GRCh38.dna.primary_assembly.fa.gz\n",
        "\n",
        "samtools faidx Homo_sapiens.GRCh38.dna.primary_assembly.fa"
      ],
      "metadata": {
        "id": "pfbZiB0QPgzx"
      },
      "execution_count": null,
      "outputs": []
    },
    {
      "cell_type": "code",
      "source": [
        "sudo apt-get install -y nginx\n",
        "sudo nginx -s reload\n",
        "sudo jbrowse create /vae/www/html/\n",
        "\n",
        "sudo /home/alkirdeev/miniconda3/bin/jbrowse add-assembly Homo_sapiens.GRCh38.dna.primary_assembly.fa --type indexedFasta --load copy --out /var/www/html/jbrowse/\n",
        "\n",
        "sudo /home/alkirdeev/miniconda3/bin/jbrowse text-index --file=/home/alkirdeev/genome_assembly/sorted.gff3.gz"
      ],
      "metadata": {
        "id": "fjuKc-UhSuOy"
      },
      "execution_count": null,
      "outputs": []
    },
    {
      "cell_type": "code",
      "source": [
        "#Files from remote server\n",
        "scp -r my_seq sveta2208@51.250.108.79:/home/sveta2208/files"
      ],
      "metadata": {
        "id": "mRKeLqFtQWhs"
      },
      "execution_count": null,
      "outputs": []
    },
    {
      "cell_type": "code",
      "source": [
        "mkdir bed_files\n",
        "cd bed_files\n",
        "\n",
        "gunzip *.bed.gz\n",
        "\n",
        "for file in ATAC FOXJ3 JUN POLR2A ; do sort -k1,1 -k2,2n $file > \"sorted_$file\"; done\n",
        "\n",
        "bgzip sorted_*.bed\n",
        "\n",
        "for file in sorted_*.bed.gz; do tabix -p bed $file;done\n",
        "\n",
        "for i in ATAC FOXJ3 JUN POLR2A; do   gunzip sort_${i}.bed.gz;   awk '{gsub(/^chr/,\"\"); print}' \\\n",
        "sort_${i}.bed > $(echo sort_${i}.bed| cut -d '.' -f 1)'_renamed.bed';   bgzip sort_${i}_renamed.bed;   tabix -f sort_${i}_renamed.bed.gz; done\n",
        "\n",
        "for i in ATAC FOXJ3 JUN POLR2A \n",
        "do sudo jbrowse add-track sort_${i}_renamed.bed.gz --load copy --out /var/www/html/; done"
      ],
      "metadata": {
        "id": "mbDj9nfJQgmo"
      },
      "execution_count": null,
      "outputs": []
    },
    {
      "cell_type": "markdown",
      "source": [
        "## Server can be checked in http://51.250.108.79/jbrowse/index.html"
      ],
      "metadata": {
        "id": "P3KW6yU8SxsF"
      }
    },
    {
      "cell_type": "markdown",
      "source": [
        "## Extra points [1.5]\n",
        "\n",
        "* [1] Create a Docker container for running JBrowse 2. It should be a self-contained application, listening on the default HTTP port. Users must be able to mount directories with custom configs and access them later without any problems. \n",
        "\n",
        "Hint: to specify the config, use the config=PATH query parameter. E.g. `http://64.129.58.13/jbrowse/?config=my_folder%2Fconfig.json` where `my_folder%2Fconfig.json` is the [escaped](https://en.wikipedia.org/wiki/Percent-encoding) path to the config file.\n",
        "\n",
        "* [0.5] Give an in-depth explanation of the OSI model and how the TCP/IP stack works. Don't copy-paste descriptions from the internet; paraphrase and shorten as much as possible (imagine writing a cheat sheet for yourself).\n",
        "\n",
        "\n",
        "\n",
        "\n"
      ],
      "metadata": {
        "id": "apXcKkvn5a_O"
      }
    }
  ]
}