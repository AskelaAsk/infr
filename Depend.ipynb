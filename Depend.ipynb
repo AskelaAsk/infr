{
  "nbformat": 4,
  "nbformat_minor": 0,
  "metadata": {
    "colab": {
      "provenance": [],
      "authorship_tag": "ABX9TyP2VhDUaMt3EnbhOtQnFmz1",
      "include_colab_link": true
    },
    "kernelspec": {
      "name": "python3",
      "display_name": "Python 3"
    },
    "language_info": {
      "name": "python"
    }
  },
  "cells": [
    {
      "cell_type": "markdown",
      "metadata": {
        "id": "view-in-github",
        "colab_type": "text"
      },
      "source": [
        "<a href=\"https://colab.research.google.com/github/AskelaAsk/infr/blob/dependencies/Depend.ipynb\" target=\"_parent\"><img src=\"https://colab.research.google.com/assets/colab-badge.svg\" alt=\"Open In Colab\"/></a>"
      ]
    },
    {
      "cell_type": "markdown",
      "source": [
        "# 1 - Dependencies management\n",
        "\n",
        "***git branch name:*** dependencies"
      ],
      "metadata": {
        "id": "VHdGmDRFnxwF"
      }
    },
    {
      "cell_type": "markdown",
      "source": [
        "## Theory [2]\n",
        "\n",
        "As usual, we will start with a few theoretical questions:\n",
        "\n",
        "* [0.5] What is Docker, and how it differs from dependencies management systems? From virtual machines?\n",
        "* [0.5] What are the advantages and disadvantages of using containers over other approaches?\n",
        "* [0.5] Explain how Docker works: what are Dockerfiles, how are containers created, and how are they run and destroyed?\n",
        "* [0.25] Name and describe at least one Docker competitor (i.e., a tool based on the same containerization technology).\n",
        "* [0.25] What is conda? How it differs from apt, yarn, and others?"
      ],
      "metadata": {
        "id": "mt6SsP_Ev4DQ"
      }
    },
    {
      "cell_type": "markdown",
      "source": [
        "## Problem [6.5]\n",
        "\n",
        "The problem itself is relatively simple. \n",
        "\n",
        "Imagine that you developed an excellent RNA-seq analysis pipeline and want to share it with the world. Based on your experience, you are confident that the popularity of the pipeline will be proportional to its ease of use. So, you decided to help your future users and to pack all dependencies in a Conda environment and a Docker container.\n",
        "\n",
        "Here is the list of tools and their versions that are used in your work:\n",
        "* [fastqc](https://www.bioinformatics.babraham.ac.uk/projects/fastqc/), v0.11.9\n",
        "* [STAR](https://github.com/alexdobin/STAR), v2.7.10b\n",
        "* [samtools](https://github.com/samtools/samtools), v1.16.1\n",
        "* [picard](https://github.com/broadinstitute/picard), v2.27.5\n",
        "* [salmon](https://github.com/COMBINE-lab/salmon), commit tag 1.9.0\n",
        "* [bedtools](https://github.com/arq5x/bedtools2), v2.30.0\n",
        "* [multiqc](https://github.com/ewels/MultiQC), v1.13\n"
      ],
      "metadata": {
        "id": "m--WCrL11SRM"
      }
    },
    {
      "cell_type": "markdown",
      "source": [
        "\n",
        "**Anaconda**:\n",
        "\n",
        "* [1] Install conda, create a new virtual environment, and install all necessary packages. \n",
        "* [0.75] You won't be able to install some tools - that's fine. List their names, and explain what should be done to make them conda-friendly ([conda-forge](https://conda-forge.org/docs/maintainer/adding_pkgs.html) channel, [bioconda](https://bioconda.github.io/contributor/workflow.html) channel). \n",
        "* [0.25] [Export](https://conda.io/projects/conda/en/latest/user-guide/tasks/manage-environments.html#exporting-the-environment-yml-file) the environment ([example](https://github.com/nf-core/clipseq/blob/master/environment.yml)) to the file and verify that it can be [rebuilt](https://conda.io/projects/conda/en/latest/user-guide/tasks/manage-environments.html#creating-an-environment-from-an-environment-yml-file) from the file without problems.\n",
        "\n"
      ],
      "metadata": {
        "id": "hehShsYn1Tv0"
      }
    },
    {
      "cell_type": "code",
      "source": [
        "##Install conda\n",
        "%%bash\n",
        "MINICONDA_INSTALLER_SCRIPT=Miniconda3-4.5.4-Linux-x86_64.sh\n",
        "MINICONDA_PREFIX=/usr/local\n",
        "wget https://repo.continuum.io/miniconda/$MINICONDA_INSTALLER_SCRIPT\n",
        "chmod +x $MINICONDA_INSTALLER_SCRIPT\n",
        "./$MINICONDA_INSTALLER_SCRIPT -b -f -p $MINICONDA_PREFIX"
      ],
      "metadata": {
        "id": "iOy-J3SoL7ma"
      },
      "execution_count": null,
      "outputs": []
    },
    {
      "cell_type": "code",
      "source": [
        "## Добавляю каналы Forge && Bioconda\n",
        "%%bash\n",
        "conda install --channel defaults conda python=3.9 --yes\n",
        "conda update --channel defaults --all --yes\n",
        "conda update -n base -c defaults conda\n",
        "conda config --add channels defaults\n",
        "conda config --add channels bioconda\n",
        "conda config --add channels conda-forge\n",
        "conda config --set channel_priority strict"
      ],
      "metadata": {
        "id": "Az9CBXDQNF4E"
      },
      "execution_count": null,
      "outputs": []
    },
    {
      "cell_type": "code",
      "source": [
        "## init conda env\n",
        "%%bash\n",
        "conda create --name hw_env python=3.9\n",
        "conda activate hw_env"
      ],
      "metadata": {
        "id": "iXzuslBnNYYT"
      },
      "execution_count": null,
      "outputs": []
    },
    {
      "cell_type": "code",
      "source": [
        "# install conda packages\n",
        "%%bash\n",
        "conda install -y star=2.7.10b  \n",
        "conda install -y samtools=1.16.1 \n",
        "conda install -y bedtools=2.30.0 \n",
        "conda install -y salmon=1.9.0\n",
        "conda install -y fastqc=0.11.9"
      ],
      "metadata": {
        "id": "XTA_3wTTNgIq"
      },
      "execution_count": null,
      "outputs": []
    },
    {
      "cell_type": "code",
      "source": [
        "!pip install multiqc"
      ],
      "metadata": {
        "id": "Y0Vy_PPBN5VX"
      },
      "execution_count": null,
      "outputs": []
    },
    {
      "cell_type": "code",
      "source": [
        "git clone -b 2.27.5 https://github.com/broadinstitute/picard.git\n",
        "cd picard\n",
        "./gradlew shadowJar\n",
        "java -jar build/libs/picard.jar\n",
        "./gradlew clean "
      ],
      "metadata": {
        "id": "DITSNBvcN0iz"
      },
      "execution_count": null,
      "outputs": []
    },
    {
      "cell_type": "code",
      "source": [
        "!conda env export > hw_env.yml  "
      ],
      "metadata": {
        "id": "lM9G_DhfOGQu"
      },
      "execution_count": null,
      "outputs": []
    },
    {
      "cell_type": "markdown",
      "source": [
        "\n",
        "**Docker**:\n",
        "* [3] Create a Dockerfile for a container with **all** required dependencies. Conda usage is not allowed, don't forget about comments; test that all tools are accessible and work inside the container. Hints:\n",
        " - If needed, grant rights to execute downloaded/compiled binaries using chmod (`chmod a+x BINARY_NAME`)\n",
        " - Move all executables to $PATH folders (e.g.`/usr/local/bin`) to make them accessible without specifying the full path.\n",
        " - Typical command to run a container interactively (`-it`) and delete on exit(`--rm`): `docker run --rm -it name:tag`\n",
        "* [1] Use [hadolint](https://hadolint.github.io/hadolint/) and remove as many reported warnings as possible.\n",
        "* [0.5] Add relevant [labels](https://docs.docker.com/engine/reference/builder/#label), e.g. maintainer, version, etc. ([hint](https://medium.com/@chamilad/lets-make-your-docker-image-better-than-90-of-existing-ones-8b1e5de950d))"
      ],
      "metadata": {
        "id": "pWDOph3xL61u"
      }
    },
    {
      "cell_type": "code",
      "source": [
        "FROM ubuntu:18.04\n",
        "RUN useradd --create-home --shell /bin/bash app_user\n",
        "WORKDIR /home/app_user\n",
        "USER root\n",
        "RUN \tapt update\t&& \\\n",
        "\tapt-get update \t&& \\\n",
        "\tapt-get install -y wget && \t\\\n",
        "\tapt-get install -y make &&\t\\\n",
        "\tapt install -y openjdk-11-jdk &&\\\n",
        "\tapt-get install -y unzip &&\t\\\n",
        "\tapt-get install -y git \t&&\t\\\n",
        "\tapt-get install -y python3-pip\n",
        "\n",
        "# install fastqc rdy\n",
        "RUN  \techo 'FastQC installation process begin'\n",
        "RUN  \techo 'FastQC need java to run. So make sure u have it'\n",
        "RUN\t  wget https://www.bioinformatics.babraham.ac.uk/projects/fastqc/fastqc_v0.11.9.zip\n",
        "RUN  \tunzip fastqc_v0.11.9.zip && rm fastqc_v0.11.9.zip \n",
        "RUN   chmod a+x FastQC/fastqc\n",
        "RUN   echo 'alias fastqc=\"/FastQC/fastqc\"' >> /.bashrc\n",
        "RUN  \techo 'U can run it now with \"fastqc\" cmd in terminal'\n",
        "\n",
        "\n",
        "#install samtools rdy\n",
        "RUN \tgit clone -b 1.16.1 https://github.com/samtools/samtools.git\n",
        "RUN\t  mv samtools/misc samtools_tools && rm -R samtools \n",
        "RUN\t  echo 'alias samtools=\"/samtools_tools/samtools.pl\"' >> /.bashrc\n",
        "RUN\t  echo \"samtools installed\"\n",
        "\n",
        "#gradle done\n",
        "RUN \twget https://services.gradle.org/distributions/gradle-7.6-bin.zip\n",
        "RUN\t  mkdir /opt/gradle && unzip -d /opt/gradle gradle-7.6-bin.zip &&\\\n",
        "\t    rm gradle-7.6-bin.zip\n",
        "RUN\t  export PATH=$PATH:/opt/gradle/gradle-7.6/bin\n",
        "\n",
        "#picard rdy\n",
        "RUN\t  git clone -b 2.27.5 https://github.com/broadinstitute/picard.git\n",
        "RUN\t  cd picard/ && ./gradlew shadowJar\n",
        "RUN\t  echo 'alias picard=\"java -jar ./picard/bin/picard.jar\"' >> /.bashrc\n",
        "\n",
        "\n",
        "#salmon v.1.9.0\t\n",
        "RUN   wget https://github.com/COMBINE-lab/salmon/releases/download/v1.9.0/salmon-1.9.0_linux_x86_64.tar.gz \n",
        "RUN   tar -zxvf salmon-1.9.0_linux_x86_64.tar.gz && rm salmon-1.9.0_linux_x86_64.tar.gz \n",
        "RUN   chmod a+x salmon-1.9.0_linux_x86_64/bin/salmon && \\\n",
        "      mv salmon-1.9.0_linux_x86_64/bin/salmon /bin/salmon && \\\n",
        "      rm -r salmon-1.9.0_linux_x86_64 \n",
        "    \n",
        "#STAR v.2.7.10b\n",
        "RUN   wget https://github.com/alexdobin/STAR/releases/download/2.7.10b/STAR_2.7.10b.zip\n",
        "RUN   unzip STAR_2.7.10b.zip && rm STAR_2.7.10b.zip \n",
        "RUN   chmod a+x STAR_2.7.10b/Linux_x86_64_static/STAR\n",
        "RUN   mv STAR_2.7.10b/Linux_x86_64_static/STAR /bin/STAR && \\\n",
        "      rm -r STAR_2.7.10b\n",
        "\n",
        "\n",
        "RUN pip3 install --upgrade pip    \n",
        "RUN pip3 install multiqc==1.13"
      ],
      "metadata": {
        "id": "ELmlPfIGOVQ_"
      },
      "execution_count": null,
      "outputs": []
    },
    {
      "cell_type": "markdown",
      "source": [
        "## Extra points [1.5]\n",
        "\n",
        "You will be awarded extra points for the following:\n",
        "* [0.5] Using [multi-stage builds](https://docs.docker.com/build/building/multi-stage/) in Docker. E.g. to build STAR and copy only the executable to the final image.\n",
        "\n",
        "* [0.75] Minimizing the size of the final Docker image. That is, removing all intermediates, unnecessary binaries/caches, etc. Don't forget to compare & report the final size before and after all the optimizations.\n",
        "\n",
        "* [0.25] Create an extra Dockerfile that starts from [a conda base image](https://hub.docker.com/r/continuumio/anaconda3) and builds everything from your conda environment file. \n",
        "\n",
        "Hint: `conda env create --quiet -f environment.yml && conda clean -a` ([example](https://github.com/nf-core/clipseq/blob/master/Dockerfile))\n"
      ],
      "metadata": {
        "id": "k7BfQC_m1CFU"
      }
    }
  ]
}